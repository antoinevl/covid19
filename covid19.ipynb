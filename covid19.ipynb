{
 "cells": [
  {
   "cell_type": "markdown",
   "metadata": {},
   "source": [
    "## COVID-19 number of deaths in France"
   ]
  },
  {
   "cell_type": "code",
   "execution_count": null,
   "metadata": {},
   "outputs": [],
   "source": [
    "import matplotlib.pyplot as plt\n",
    "import matplotlib\n",
    "import numpy as np\n",
    "import scipy.stats as stats\n",
    "import math\n",
    "import datetime"
   ]
  },
  {
   "cell_type": "code",
   "execution_count": null,
   "metadata": {},
   "outputs": [],
   "source": [
    "def score(x,y):\n",
    "    assert(len(x) == len(y))\n",
    "    out = 0\n",
    "    for i in range(len(x)):\n",
    "        out += (x[i] - y[i])**2\n",
    "    return out\n",
    "\n",
    "def maximise_score(days_to_peak, deaths):\n",
    "    peak = len(deaths) + days_to_peak\n",
    "    N = peak * 2 - 1\n",
    "    mu = peak\n",
    "    X = np.linspace(0, N-1, N)\n",
    "    best = {}\n",
    "    best['score'] = 9999999\n",
    "    best['scale'] = 9999999\n",
    "    best['sigma'] = 9999999\n",
    "    for scale in range(0,300000,250):\n",
    "        for sigma in range(10):\n",
    "            Y = stats.norm.pdf(X, mu, sigma)*scale\n",
    "            Y = Y[:len(deaths)]\n",
    "            s = score(deaths,Y)\n",
    "            if s < best['score']:\n",
    "                    best['score'] = s\n",
    "                    best['scale'] = scale\n",
    "                    best['sigma'] = sigma\n",
    "    return best"
   ]
  },
  {
   "cell_type": "markdown",
   "metadata": {},
   "source": [
    "### Number of deaths estimation by simple Gaussian curves\n",
    "\n",
    "`deaths` variable updated with stats from https://www.worldometers.info/coronavirus/country/france/\n",
    "\n",
    "Day 0 here is 2020-03-05.\n",
    "\n",
    "Limitations:\n",
    "- Number of deaths is underestimated.\n",
    "- Numbers are not compared to other countries ones.\n",
    "- Only testing a simple Gaussian model. Not taking into account quarantine, hospital situation etc."
   ]
  },
  {
   "cell_type": "code",
   "execution_count": null,
   "metadata": {},
   "outputs": [],
   "source": [
    "deaths = [3,2,7,3,11,3,15,13,18,12,36,21,27,89,108,78,112,112,186,240,231]\n",
    "total_deaths = []\n",
    "scores = {}\n",
    "estimations = []\n",
    "\n",
    "fig, axs = plt.subplots(5,4,figsize=(20, 15), tight_layout=True)\n",
    "\n",
    "i=0\n",
    "j=0\n",
    "for d in range(2,22):\n",
    "    days_to_peak = d\n",
    "\n",
    "    best = maximise_score(days_to_peak,deaths)\n",
    "\n",
    "    peak = len(deaths) + days_to_peak\n",
    "    N = peak * 2 - 1\n",
    "    mu = peak\n",
    "    sigma = best['sigma']\n",
    "    scale = best['scale']\n",
    "    scores[d] = best['score']\n",
    "    \n",
    "    X = np.linspace(0, N-1, N)\n",
    "    Y = stats.norm.pdf(X, mu, sigma)*scale\n",
    "    estimations.append(Y)\n",
    "    \n",
    "    total_deaths.append(int(np.round(np.sum(deaths+list(Y[len(deaths):])))))\n",
    "    \n",
    "    axs[i][j].plot(X,Y)\n",
    "    axs[i][j].plot(X[:len(deaths)],deaths,'+')\n",
    "    axs[i][j].set_xlabel('days')\n",
    "    axs[i][j].set_ylabel('number of deaths')\n",
    "    axs[i][j].text(0.1,0.85,'+'+str(d)+' days', transform=axs[i][j].transAxes)\n",
    "    if j < 3:\n",
    "        j += 1\n",
    "    else:\n",
    "        i += 1\n",
    "        j = 0"
   ]
  },
  {
   "cell_type": "code",
   "execution_count": null,
   "metadata": {},
   "outputs": [],
   "source": [
    "fig, ax = plt.subplots(figsize=(10, 5))\n",
    "\n",
    "ax.plot(np.linspace(2,21,21-2+1),list(scores.values()))\n",
    "ax.plot([min(scores, key=scores.get)],[min(list(scores.values()))],'ro')\n",
    "ax.set_xlabel('days')\n",
    "ax.set_ylabel('score')\n",
    "ax.text(0.5,0.75,'Estimated day for peak: in '+str(min(scores, key=scores.get))+' days.',transform=ax.transAxes, horizontalalignment='center',fontsize=18)\n",
    "ax.text(0.5,0.55,('ie: '+str((datetime.date.today() + datetime.timedelta(days=12)).isoformat())),transform=ax.transAxes, horizontalalignment='center',fontsize=18)\n",
    "\n",
    "plt.show()"
   ]
  },
  {
   "cell_type": "markdown",
   "metadata": {},
   "source": [
    "### Estimation of total number of deaths"
   ]
  },
  {
   "cell_type": "code",
   "execution_count": null,
   "metadata": {},
   "outputs": [],
   "source": [
    "for i in range(2,22):\n",
    "    print('Number of deaths if peak is in '+str(i)+' days: '+ str(total_deaths[i-2]))"
   ]
  },
  {
   "cell_type": "code",
   "execution_count": null,
   "metadata": {},
   "outputs": [],
   "source": []
  }
 ],
 "metadata": {
  "kernelspec": {
   "display_name": "Python 3",
   "language": "python",
   "name": "python3"
  },
  "language_info": {
   "codemirror_mode": {
    "name": "ipython",
    "version": 3
   },
   "file_extension": ".py",
   "mimetype": "text/x-python",
   "name": "python",
   "nbconvert_exporter": "python",
   "pygments_lexer": "ipython3",
   "version": "3.7.4"
  }
 },
 "nbformat": 4,
 "nbformat_minor": 4
}
